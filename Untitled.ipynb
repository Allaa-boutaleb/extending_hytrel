{
 "cells": [
  {
   "cell_type": "code",
   "execution_count": 11,
   "id": "909536de-aac3-44ea-9753-ec4b9d1167e5",
   "metadata": {},
   "outputs": [],
   "source": [
    "import pickle as pkl\n",
    "\n",
    "path1 = \"inference/santos/search/candidates_hdbscan_default.pkl\"\n",
    "path2 = \"inference/santos/search/candidates_hierarchical_default.pkl\"\n",
    "\n",
    "with open(path1, 'rb') as f:\n",
    "    data1 = pkl.load(f)\n",
    "\n",
    "with open(path2, 'rb') as f:\n",
    "    data2 = pkl.load(f)"
   ]
  },
  {
   "cell_type": "code",
   "execution_count": 12,
   "id": "2a394891-8102-4468-b4b6-ef77e80bff19",
   "metadata": {},
   "outputs": [],
   "source": [
    "# Santos union benchmark\n",
    "import pickle as pkl\n",
    "path3 = \"benchmarks/union/santos/santosUnionBenchmark.pickle\"\n",
    "with open(path3, 'rb') as f:\n",
    "    data3 = pkl.load(f)"
   ]
  },
  {
   "cell_type": "code",
   "execution_count": 18,
   "id": "cfd19542-56a7-4e9a-825d-8040af60f0a5",
   "metadata": {},
   "outputs": [
    {
     "data": {
      "text/plain": [
       "['311_calls_historic_data_a.csv',\n",
       " '311_calls_historic_data_9.csv',\n",
       " '311_calls_historic_data_5.csv',\n",
       " '311_calls_historic_data_6.csv',\n",
       " '311_calls_historic_data_1.csv',\n",
       " '311_calls_historic_data_3.csv',\n",
       " '311_calls_historic_data_7.csv',\n",
       " '311_calls_historic_data_8.csv',\n",
       " '311_calls_historic_data_2.csv',\n",
       " '311_calls_historic_data_4.csv',\n",
       " '311_calls_historic_data_0.csv',\n",
       " 'complaint_by_practice_4.csv',\n",
       " 'HMRC_exceptions_to_spending_controls_April_to_June_2018_consultancy.csv',\n",
       " 'complaint_by_practice_a.csv',\n",
       " 'advertising-July-Sept-2018.csv',\n",
       " 'HMRC_exceptions_to_spending_controls_April_to_June_2018_facilities_management.csv',\n",
       " 'complaint_by_practice_5.csv',\n",
       " 'minister_meetings_1.csv',\n",
       " 'complaint_by_practice_2.csv',\n",
       " 'complaint_by_practice_b.csv']"
      ]
     },
     "execution_count": 18,
     "metadata": {},
     "output_type": "execute_result"
    }
   ],
   "source": [
    "data1['311_calls_historic_data_a.csv']"
   ]
  },
  {
   "cell_type": "code",
   "execution_count": 19,
   "id": "5f4c1f0b",
   "metadata": {},
   "outputs": [
    {
     "data": {
      "text/plain": [
       "['311_calls_historic_data_a.csv',\n",
       " '311_calls_historic_data_5.csv',\n",
       " '311_calls_historic_data_7.csv',\n",
       " '311_calls_historic_data_9.csv',\n",
       " '311_calls_historic_data_2.csv',\n",
       " '311_calls_historic_data_1.csv',\n",
       " '311_calls_historic_data_0.csv',\n",
       " '311_calls_historic_data_4.csv',\n",
       " '311_calls_historic_data_8.csv',\n",
       " '311_calls_historic_data_3.csv',\n",
       " '311_calls_historic_data_6.csv',\n",
       " 'animal_tag_data_1.csv',\n",
       " 'animal_tag_data_6.csv',\n",
       " 'animal_tag_data_3.csv',\n",
       " 'animal_tag_data_5.csv',\n",
       " 'animal_tag_data_0.csv',\n",
       " 'animal_tag_data_2.csv',\n",
       " 'animal_tag_data_8.csv',\n",
       " 'animal_tag_data_7.csv',\n",
       " 'animal_tag_data_4.csv']"
      ]
     },
     "execution_count": 19,
     "metadata": {},
     "output_type": "execute_result"
    }
   ],
   "source": [
    "data2['311_calls_historic_data_a.csv']"
   ]
  },
  {
   "cell_type": "code",
   "execution_count": 20,
   "id": "68dac162",
   "metadata": {},
   "outputs": [
    {
     "data": {
      "text/plain": [
       "['311_calls_historic_data_a.csv',\n",
       " '311_calls_historic_data_0.csv',\n",
       " '311_calls_historic_data_1.csv',\n",
       " '311_calls_historic_data_2.csv',\n",
       " '311_calls_historic_data_3.csv',\n",
       " '311_calls_historic_data_4.csv',\n",
       " '311_calls_historic_data_5.csv',\n",
       " '311_calls_historic_data_6.csv',\n",
       " '311_calls_historic_data_7.csv',\n",
       " '311_calls_historic_data_8.csv',\n",
       " '311_calls_historic_data_9.csv']"
      ]
     },
     "execution_count": 20,
     "metadata": {},
     "output_type": "execute_result"
    }
   ],
   "source": [
    "data3['311_calls_historic_data_a.csv']"
   ]
  },
  {
   "cell_type": "code",
   "execution_count": null,
   "id": "db9d63cb",
   "metadata": {},
   "outputs": [],
   "source": []
  }
 ],
 "metadata": {
  "kernelspec": {
   "display_name": "Python 3 (ipykernel)",
   "language": "python",
   "name": "python3"
  },
  "language_info": {
   "codemirror_mode": {
    "name": "ipython",
    "version": 3
   },
   "file_extension": ".py",
   "mimetype": "text/x-python",
   "name": "python",
   "nbconvert_exporter": "python",
   "pygments_lexer": "ipython3",
   "version": "3.9.20"
  }
 },
 "nbformat": 4,
 "nbformat_minor": 5
}
